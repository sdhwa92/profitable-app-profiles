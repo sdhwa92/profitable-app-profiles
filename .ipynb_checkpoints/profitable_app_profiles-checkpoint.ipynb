{
 "cells": [
  {
   "cell_type": "markdown",
   "id": "judicial-weather",
   "metadata": {},
   "source": [
    "# Profitable App Profiles for the App Store and Google Play Markets\n",
    "\n",
    "This project is about to figure out what type of applications can attract most users. The goal for this project is to provide insights to find the application type that most users uses to the application developers so that they can develop applications that makes profits via ads. \n",
    "\n",
    "Notes: \n",
    "- The application developers only build apps that are free to download and install, and that are directed toward an _English-speaking_ audience."
   ]
  },
  {
   "cell_type": "markdown",
   "id": "green-boards",
   "metadata": {},
   "source": [
    "## Define functions\n",
    "\n",
    "`explore_data()` function returns a dataset sliced based on the `start` and `end` parameters.\n",
    "`delete_data()` function returns a dataset result excluding any indices passed from the `wrong_data_dict` parameter.\n"
   ]
  },
  {
   "cell_type": "code",
   "execution_count": 1,
   "id": "informational-range",
   "metadata": {},
   "outputs": [],
   "source": [
    "def explore_data(dataset, start, end, rows_and_columns=False):\n",
    "    dataset_slice = dataset[start:end]\n",
    "#     for row in dataset_slice:\n",
    "#         print(row)\n",
    "#         print('\\n') # adds a new (empty) line after each row\n",
    "    \n",
    "    if rows_and_columns:\n",
    "        print('Number of rows: ', len(dataset))\n",
    "        print('Number of columns: ', len(dataset[0]))\n",
    "        \n",
    "    return dataset_slice\n",
    "\n",
    "def delete_data(dataset, wrong_data_dict, rows_and_columns=False):\n",
    "    result = [v for i, v in enumerate(dataset) if i not in wrong_data_dict]\n",
    "    \n",
    "    if rows_and_columns:\n",
    "        print('Number of rows: ', len(result))\n",
    "        print('Number of columns: ', len(result[0]))\n",
    "    \n",
    "    return result\n",
    "        \n",
    "        "
   ]
  },
  {
   "cell_type": "markdown",
   "id": "engaged-finnish",
   "metadata": {},
   "source": [
    "## Retrieve datasets for both Apple Store and Google Play Store\n",
    "\n",
    "By using the defined `explore_data()` function, retrieve the datasets for both Apple Store and Google Play Store."
   ]
  },
  {
   "cell_type": "code",
   "execution_count": 2,
   "id": "chemical-drink",
   "metadata": {},
   "outputs": [
    {
     "name": "stdout",
     "output_type": "stream",
     "text": [
      "Number of rows:  7197\n",
      "Number of columns:  16\n",
      "[['id', 'track_name', 'size_bytes', 'currency', 'price', 'rating_count_tot', 'rating_count_ver', 'user_rating', 'user_rating_ver', 'ver', 'cont_rating', 'prime_genre', 'sup_devices.num', 'ipadSc_urls.num', 'lang.num', 'vpp_lic']]\n",
      "Number of rows:  10841\n",
      "Number of columns:  13\n",
      "[['App', 'Category', 'Rating', 'Reviews', 'Size', 'Installs', 'Type', 'Price', 'Content Rating', 'Genres', 'Last Updated', 'Current Ver', 'Android Ver']]\n"
     ]
    }
   ],
   "source": [
    "from csv import reader\n",
    "\n",
    "apple_store_opened_file = open('datasets/AppleStore.csv', encoding=\"utf8\")\n",
    "apple_store_read_file = reader(apple_store_opened_file)\n",
    "apple_store_data_list = list(apple_store_read_file) \n",
    "\n",
    "ios_header = explore_data(apple_store_data_list, 0, 1)\n",
    "ios_dataset = explore_data(apple_store_data_list[1:], 0, len(apple_store_data_list[1:]), True)\n",
    "print(ios_header)\n",
    "\n",
    "google_play_store_opened_file = open('datasets/googleplaystore.csv', encoding=\"utf8\")\n",
    "google_play_store_read_file = reader(google_play_store_opened_file)\n",
    "google_play_store_data_list = list(google_play_store_read_file)\n",
    "\n",
    "android_header = explore_data(google_play_store_data_list, 0, 1)\n",
    "android_dataset = explore_data(google_play_store_data_list[1:], 0, len(google_play_store_data_list[1:]), True)\n",
    "print(android_header)\n",
    "\n",
    "\n",
    "\n"
   ]
  },
  {
   "cell_type": "markdown",
   "id": "metropolitan-circle",
   "metadata": {},
   "source": [
    "## Remove wrong data from the datasets\n",
    "\n",
    "Some wrong data found from the [discussion forum](https://www.kaggle.com/lava18/google-play-store-apps/discussion?search=wrong) should be removed from the dataset in order to provide accurate datasets.\n",
    "\n",
    "There was no identified wrong data from the Apple Store dataset."
   ]
  },
  {
   "cell_type": "code",
   "execution_count": 3,
   "id": "western-certification",
   "metadata": {},
   "outputs": [
    {
     "name": "stdout",
     "output_type": "stream",
     "text": [
      "Number of rows:  10839\n",
      "Number of columns:  13\n"
     ]
    }
   ],
   "source": [
    "android_wrong_data = {9148, 10472} # wrong data indices\n",
    "android_dataset = delete_data(android_dataset, android_wrong_data, True)"
   ]
  },
  {
   "cell_type": "markdown",
   "id": "therapeutic-daily",
   "metadata": {},
   "source": [
    "## Removing duplicate entries\n",
    "\n",
    "If we see the [discussion](https://www.kaggle.com/lava18/google-play-store-apps/discussion) section, we will notice some apps have duplicate entries. For instance, Instagram has four entries:"
   ]
  },
  {
   "cell_type": "code",
   "execution_count": 4,
   "id": "exact-shipping",
   "metadata": {},
   "outputs": [
    {
     "name": "stdout",
     "output_type": "stream",
     "text": [
      "['Instagram', 'SOCIAL', '4.5', '66577313', 'Varies with device', '1,000,000,000+', 'Free', '0', 'Teen', 'Social', 'July 31, 2018', 'Varies with device', 'Varies with device']\n",
      "['Instagram', 'SOCIAL', '4.5', '66577446', 'Varies with device', '1,000,000,000+', 'Free', '0', 'Teen', 'Social', 'July 31, 2018', 'Varies with device', 'Varies with device']\n",
      "['Instagram', 'SOCIAL', '4.5', '66577313', 'Varies with device', '1,000,000,000+', 'Free', '0', 'Teen', 'Social', 'July 31, 2018', 'Varies with device', 'Varies with device']\n",
      "['Instagram', 'SOCIAL', '4.5', '66509917', 'Varies with device', '1,000,000,000+', 'Free', '0', 'Teen', 'Social', 'July 31, 2018', 'Varies with device', 'Varies with device']\n"
     ]
    }
   ],
   "source": [
    "for app in android_dataset:\n",
    "    name = app[0]\n",
    "    if name == 'Instagram':\n",
    "        print(app)"
   ]
  },
  {
   "cell_type": "markdown",
   "id": "other-metro",
   "metadata": {},
   "source": [
    "In total, there are 1,181 cases where an app occurs more than onces:"
   ]
  },
  {
   "cell_type": "code",
   "execution_count": 5,
   "id": "signed-healing",
   "metadata": {},
   "outputs": [
    {
     "name": "stdout",
     "output_type": "stream",
     "text": [
      "Total duplicate entries from Android: 1181\n"
     ]
    }
   ],
   "source": [
    "duplicate_apps = []\n",
    "unique_apps = []\n",
    "\n",
    "for app in android_dataset:\n",
    "    name = app[0]\n",
    "    if name in unique_apps:\n",
    "        duplicate_apps.append(name)\n",
    "    else:\n",
    "        unique_apps.append(name)\n",
    "\n",
    "print(\"Total duplicate entries from Android: \" + str(len(duplicate_apps)))"
   ]
  },
  {
   "cell_type": "markdown",
   "id": "thermal-creature",
   "metadata": {},
   "source": [
    "Rather than removing duplicate entries randomly, it's better to set some criterion for removing. If we see the Instagram example, we can notice the review value is different among them. That means, each of them created at different date."
   ]
  },
  {
   "cell_type": "code",
   "execution_count": 6,
   "id": "understood-bangkok",
   "metadata": {},
   "outputs": [
    {
     "name": "stdout",
     "output_type": "stream",
     "text": [
      "['Instagram', 'SOCIAL', '4.5', '66577313', 'Varies with device', '1,000,000,000+', 'Free', '0', 'Teen', 'Social', 'July 31, 2018', 'Varies with device', 'Varies with device']\n",
      "['Instagram', 'SOCIAL', '4.5', '66577446', 'Varies with device', '1,000,000,000+', 'Free', '0', 'Teen', 'Social', 'July 31, 2018', 'Varies with device', 'Varies with device']\n",
      "['Instagram', 'SOCIAL', '4.5', '66577313', 'Varies with device', '1,000,000,000+', 'Free', '0', 'Teen', 'Social', 'July 31, 2018', 'Varies with device', 'Varies with device']\n",
      "['Instagram', 'SOCIAL', '4.5', '66509917', 'Varies with device', '1,000,000,000+', 'Free', '0', 'Teen', 'Social', 'July 31, 2018', 'Varies with device', 'Varies with device']\n"
     ]
    }
   ],
   "source": [
    "for app in android_dataset:\n",
    "    name = app[0]\n",
    "    if name == 'Instagram':\n",
    "        print(app)"
   ]
  },
  {
   "cell_type": "markdown",
   "id": "rocky-candle",
   "metadata": {},
   "source": [
    "Therefore, I'm going to leave the one has highest number of reviews as we can assume that is the latest entry amongh them."
   ]
  },
  {
   "cell_type": "code",
   "execution_count": 7,
   "id": "structural-sunglasses",
   "metadata": {},
   "outputs": [
    {
     "name": "stdout",
     "output_type": "stream",
     "text": [
      "Expected number of entries after removing duplicates:  9658\n",
      "The number of entries after deleting duplicates:  9658\n"
     ]
    }
   ],
   "source": [
    "print(\"Expected number of entries after removing duplicates: \", len(android_dataset) - 1181)\n",
    "\n",
    "reviews_max = {}\n",
    "\n",
    "for app in android_dataset:\n",
    "    name = app[0]\n",
    "    n_reviews = float(app[3])\n",
    "    if name in reviews_max and reviews_max[name] < n_reviews:\n",
    "        reviews_max[name] = n_reviews\n",
    "    elif name not in reviews_max:\n",
    "        reviews_max[name] = n_reviews\n",
    "        \n",
    "print(\"The number of entries after deleting duplicates: \", len(reviews_max))"
   ]
  },
  {
   "cell_type": "markdown",
   "id": "nervous-companion",
   "metadata": {},
   "source": [
    "Use the directionary created above to remove the duplicate rows:\n",
    "- Start by creating two empty lists: `android_clean`(which will store our new cleaned data set) and `already_added`(which will just store app names).\n",
    "- Loop through the Google Play data set (without header row), and for each iteration:\n",
    " - Append the entire row to the `android_clean` list (which will eventually be a list of list and store our cleaned data set).\n",
    " - Append the name of the app `name` to the `already_added` list - this helps us to keep track of apps that we already added."
   ]
  },
  {
   "cell_type": "code",
   "execution_count": 8,
   "id": "first-blink",
   "metadata": {},
   "outputs": [
    {
     "name": "stdout",
     "output_type": "stream",
     "text": [
      "The number of clean data entities:  9658\n"
     ]
    }
   ],
   "source": [
    "android_clean = []\n",
    "already_added = [] # will store app names.\n",
    "\n",
    "for app in android_dataset:\n",
    "    name = app[0]\n",
    "    n_reviews = float(app[3])\n",
    "    if n_reviews == reviews_max[name] and name not in already_added:\n",
    "        android_clean.append(app)\n",
    "        already_added.append(name)\n",
    "        \n",
    "print(\"The number of clean data entities: \", len(android_clean))\n",
    "\n"
   ]
  },
  {
   "cell_type": "markdown",
   "id": "ongoing-cholesterol",
   "metadata": {},
   "source": [
    "## Removing non-english apps\n",
    "\n",
    "Remember we use English for the apps we develop, and we'd like to analyze only the apps that are directed toward an English-speaking audience. However, if we explore the data long enough, we'll find that both data sets have apps with names that suggest they are not directed toward an English-speaking audience."
   ]
  },
  {
   "cell_type": "code",
   "execution_count": 9,
   "id": "fleet-anthropology",
   "metadata": {},
   "outputs": [
    {
     "name": "stdout",
     "output_type": "stream",
     "text": [
      "爱奇艺PPS -《欢乐颂2》电视剧热播\n",
      "【脱出ゲーム】絶対に最後までプレイしないで 〜謎解き＆ブロックパズル〜\n",
      "\n",
      "\n",
      "中国語 AQリスニング\n",
      "لعبة تقدر تربح DZ\n"
     ]
    }
   ],
   "source": [
    "print(ios_dataset[813][1])\n",
    "print(ios_dataset[6731][1])\n",
    "print('\\n')\n",
    "print(android_clean[4412][0])\n",
    "print(android_clean[7940][0])"
   ]
  },
  {
   "cell_type": "markdown",
   "id": "trying-christianity",
   "metadata": {},
   "source": [
    "The numbers corresponding to the characters we commonly use in English text are all in the range 0 to 127, according to [ASCII](https://en.wikipedia.org/wiki/ASCII)(American Standard Code for Information Interchange) system. Based on this number range, we can build a function that detects whether a character belongs to the set of common English characters or not. If the number is equal to or less than 127, then the character belongs to the set of common English characters.\n"
   ]
  },
  {
   "cell_type": "code",
   "execution_count": 10,
   "id": "original-mineral",
   "metadata": {},
   "outputs": [],
   "source": [
    "def is_app_name_english(app_name):\n",
    "    for char in app_name:\n",
    "        ascii_num = ord(char)\n",
    "        if ascii_num > 127:\n",
    "            return False\n",
    "    \n",
    "    return True"
   ]
  },
  {
   "cell_type": "markdown",
   "id": "graphic-valentine",
   "metadata": {},
   "source": [
    "Use the function to check whether these app names are detected as English or non-English:\n",
    "- `'Instagram'`\n",
    "- `'爱奇艺PPS -《欢乐颂2》电视剧热播'`\n",
    "- `'Docs To Go™ Free Office Suite'`\n",
    "- `'Instachat 😜'`\n",
    "\n",
    "After runing those app names for testing, we can notice that the english named apps containing special characters are distinguished as a non-English app. This will lose useful data since many English apps will be incorrectly labeled as non-English. To minimize the impact of data loss, we'll only remove an app if its name contains more than three characters with corresponding numbers falling outside the ASCII range. The function is still not perfect, but it should be fairly effective."
   ]
  },
  {
   "cell_type": "code",
   "execution_count": 11,
   "id": "killing-conjunction",
   "metadata": {},
   "outputs": [],
   "source": [
    "def is_app_name_english(app_name):\n",
    "    num_of_outside_range = 0\n",
    "    for char in app_name:\n",
    "        ascii_num = ord(char)\n",
    "        if ascii_num > 127 and num_of_outside_range < 3:\n",
    "            num_of_outside_range += 1\n",
    "        elif ascii_num > 127 and num_of_outside_range >= 2:\n",
    "            return False\n",
    "    \n",
    "    return True"
   ]
  },
  {
   "cell_type": "markdown",
   "id": "worldwide-coach",
   "metadata": {},
   "source": [
    "Use the new function to check whether these app names are detected as English or non-English:\n",
    "\n",
    "- `'Docs To Go™ Free Office Suite'`\n",
    "- `'Instachat 😜'`\n",
    "- `'爱奇艺PPS -《欢乐颂2》电视剧热播'`\n",
    "\n",
    "Use the function to filter out non-English apps from the both datasets. "
   ]
  },
  {
   "cell_type": "code",
   "execution_count": 12,
   "id": "streaming-extreme",
   "metadata": {},
   "outputs": [
    {
     "name": "stdout",
     "output_type": "stream",
     "text": [
      "Remaining ios data entities:  6183\n",
      "Remaining android data entities:  9613\n"
     ]
    }
   ],
   "source": [
    "ios_eng_apps = []\n",
    "android_eng_apps = []\n",
    "\n",
    "for app in ios_dataset:\n",
    "    name = app[1]\n",
    "    if is_app_name_english(name):\n",
    "        ios_eng_apps.append(app)\n",
    "\n",
    "for app in android_clean:\n",
    "    name = app[0]\n",
    "    if is_app_name_english(name):\n",
    "        android_eng_apps.append(app)\n",
    "    \n",
    "print(\"Remaining ios data entities: \", len(ios_eng_apps))\n",
    "print(\"Remaining android data entities: \", len(android_eng_apps))"
   ]
  },
  {
   "cell_type": "markdown",
   "id": "clear-manual",
   "metadata": {},
   "source": [
    "As we mentioned in the introduction, we only build apps that are free to download and install, and our main source of revenue consists of in-app ads. Our datasets contain both free and non-free apps; we'll need to isolate only the free apps for our analysis."
   ]
  },
  {
   "cell_type": "code",
   "execution_count": 13,
   "id": "extended-raising",
   "metadata": {},
   "outputs": [
    {
     "name": "stdout",
     "output_type": "stream",
     "text": [
      "Remaining ios data entities:  3222\n",
      "Remaining android data entities:  8863\n"
     ]
    }
   ],
   "source": [
    "ios_free_apps = []\n",
    "android_free_apps = []\n",
    "\n",
    "for app in ios_eng_apps:\n",
    "    price = float(app[4])\n",
    "    if price == 0.0:\n",
    "        ios_free_apps.append(app)\n",
    "\n",
    "for app in android_eng_apps:\n",
    "    price = float(app[7].replace('$', ''))\n",
    "    if price == 0.0:\n",
    "        android_free_apps.append(app)\n",
    "        \n",
    "print(\"Remaining ios data entities: \", len(ios_free_apps))\n",
    "print(\"Remaining android data entities: \", len(android_free_apps))\n",
    "        "
   ]
  },
  {
   "cell_type": "markdown",
   "id": "protecting-weekend",
   "metadata": {},
   "source": [
    "## Find most common apps by genre\n",
    "\n",
    "Our aim is to determine the kinds of apps that are likely to attract more users because our revenue is highly influenced by the number of people using our apps. \n",
    "\n",
    "Because our end goal is to add the app on both Google Play and App Store, we need to find app profiles that are successful on both markets. For instance, a profile that works well both markets might be a productivity app that makes use of gamification.\n",
    "\n",
    "For this, we'll need to build frequency tables that displayed in ascending order for a few columns in our datasets.\n"
   ]
  },
  {
   "cell_type": "code",
   "execution_count": 22,
   "id": "cleared-messenger",
   "metadata": {
    "scrolled": false
   },
   "outputs": [
    {
     "name": "stdout",
     "output_type": "stream",
     "text": [
      "Catalogs : 0.12414649286157665\n",
      "Medical : 0.186219739292365\n",
      "Navigation : 0.186219739292365\n",
      "Book : 0.4345127250155183\n",
      "Business : 0.5276225946617008\n",
      "Reference : 0.5586592178770949\n",
      "Food & Drink : 0.8069522036002483\n",
      "Weather : 0.8690254500310366\n",
      "Finance : 1.1173184357541899\n",
      "Travel : 1.2414649286157666\n",
      "News : 1.3345747982619491\n",
      "Lifestyle : 1.5828677839851024\n",
      "Productivity : 1.7380509000620732\n",
      "Health & Fitness : 2.0173805090006205\n",
      "Music : 2.0484171322160147\n",
      "Sports : 2.1415270018621975\n",
      "Utilities : 2.5139664804469275\n",
      "Shopping : 2.60707635009311\n",
      "Social Networking : 3.2898820608317814\n",
      "Education : 3.662321539416512\n",
      "Photo & Video : 4.9658597144630665\n",
      "Entertainment : 7.883302296710118\n",
      "Games : 58.16263190564867\n",
      "\n",
      "\n",
      "Adventure;Education : 0.011282861333634209\n",
      "Arcade;Pretend Play : 0.011282861333634209\n",
      "Art & Design;Action & Adventure : 0.011282861333634209\n",
      "Art & Design;Pretend Play : 0.011282861333634209\n",
      "Books & Reference;Education : 0.011282861333634209\n",
      "Card;Action & Adventure : 0.011282861333634209\n",
      "Casual;Music & Video : 0.011282861333634209\n",
      "Comics;Creativity : 0.011282861333634209\n",
      "Communication;Creativity : 0.011282861333634209\n",
      "Entertainment;Education : 0.011282861333634209\n",
      "Health & Fitness;Action & Adventure : 0.011282861333634209\n",
      "Health & Fitness;Education : 0.011282861333634209\n",
      "Lifestyle;Education : 0.011282861333634209\n",
      "Lifestyle;Pretend Play : 0.011282861333634209\n",
      "Music & Audio;Music & Video : 0.011282861333634209\n",
      "Parenting;Brain Games : 0.011282861333634209\n",
      "Puzzle;Education : 0.011282861333634209\n",
      "Racing;Pretend Play : 0.011282861333634209\n",
      "Role Playing;Brain Games : 0.011282861333634209\n",
      "Simulation;Education : 0.011282861333634209\n",
      "Strategy;Action & Adventure : 0.011282861333634209\n",
      "Strategy;Creativity : 0.011282861333634209\n",
      "Strategy;Education : 0.011282861333634209\n",
      "Tools;Education : 0.011282861333634209\n",
      "Travel & Local;Action & Adventure : 0.011282861333634209\n",
      "Trivia;Education : 0.011282861333634209\n",
      "Video Players & Editors;Creativity : 0.011282861333634209\n",
      "Board;Action & Adventure : 0.022565722667268417\n",
      "Casual;Education : 0.022565722667268417\n",
      "Entertainment;Pretend Play : 0.022565722667268417\n",
      "Music;Music & Video : 0.022565722667268417\n",
      "Puzzle;Creativity : 0.022565722667268417\n",
      "Simulation;Pretend Play : 0.022565722667268417\n",
      "Sports;Action & Adventure : 0.022565722667268417\n",
      "Video Players & Editors;Music & Video : 0.022565722667268417\n",
      "Adventure;Action & Adventure : 0.033848584000902626\n",
      "Education;Action & Adventure : 0.033848584000902626\n",
      "Education;Brain Games : 0.033848584000902626\n",
      "Education;Music & Video : 0.033848584000902626\n",
      "Educational;Action & Adventure : 0.033848584000902626\n",
      "Educational;Creativity : 0.033848584000902626\n",
      "Entertainment;Action & Adventure : 0.033848584000902626\n",
      "Entertainment;Creativity : 0.033848584000902626\n",
      "Puzzle;Action & Adventure : 0.033848584000902626\n",
      "Role Playing;Action & Adventure : 0.033848584000902626\n",
      "Education;Creativity : 0.045131445334536835\n",
      "Role Playing;Pretend Play : 0.045131445334536835\n",
      "Education;Pretend Play : 0.05641430666817105\n",
      "Art & Design;Creativity : 0.06769716800180525\n",
      "Casual;Creativity : 0.06769716800180525\n",
      "Educational;Brain Games : 0.06769716800180525\n",
      "Parenting;Music & Video : 0.06769716800180525\n",
      "Board;Brain Games : 0.07898002933543948\n",
      "Entertainment;Brain Games : 0.07898002933543948\n",
      "Parenting;Education : 0.07898002933543948\n",
      "Simulation;Action & Adventure : 0.07898002933543948\n",
      "Educational;Pretend Play : 0.09026289066907367\n",
      "Action;Action & Adventure : 0.10154575200270789\n",
      "Arcade;Action & Adventure : 0.1241114746699763\n",
      "Casual;Action & Adventure : 0.1353943360036105\n",
      "Casual;Brain Games : 0.1353943360036105\n",
      "Entertainment;Music & Video : 0.16924292000451313\n",
      "Puzzle;Brain Games : 0.16924292000451313\n",
      "Racing;Action & Adventure : 0.16924292000451313\n",
      "Music : 0.20309150400541578\n",
      "Casual;Pretend Play : 0.2369400880063184\n",
      "Word : 0.25950581067358686\n",
      "Education;Education : 0.33848584000902626\n",
      "Educational : 0.37233442400992894\n",
      "Board : 0.38361728534356315\n",
      "Educational;Education : 0.3949001466771973\n",
      "Trivia : 0.4174658693444658\n",
      "Casino : 0.42874873067809993\n",
      "Card : 0.4513144533453684\n",
      "Parenting : 0.4964458986799052\n",
      "Art & Design : 0.5979916506826132\n",
      "Beauty : 0.5979916506826132\n",
      "Comics : 0.6092745120162473\n",
      "Adventure : 0.6769716800180525\n",
      "Events : 0.7108202640189552\n",
      "Weather : 0.8010831546880289\n",
      "House & Home : 0.8236488773552973\n",
      "Strategy : 0.9026289066907368\n",
      "Auto & Vehicles : 0.9251946293580051\n",
      "Libraries & Demo : 0.9364774906916393\n",
      "Role Playing : 0.9364774906916393\n",
      "Racing : 0.9928917973598104\n",
      "Puzzle : 1.128286133363421\n",
      "Food & Drink : 1.241114746699763\n",
      "Maps & Navigation : 1.399074805370642\n",
      "Casual : 1.7601263680469368\n",
      "Video Players & Editors : 1.771409229380571\n",
      "Arcade : 1.8503892587160102\n",
      "Dating : 1.8616721200496444\n",
      "Simulation : 2.042197901387792\n",
      "Books & Reference : 2.1437436533904997\n",
      "Shopping : 2.245289405393208\n",
      "Travel & Local : 2.324269434728647\n",
      "Social : 2.6627552747376737\n",
      "News & Magazines : 2.798149610741284\n",
      "Photography : 2.944826808078529\n",
      "Health & Fitness : 3.0802211440821394\n",
      "Action : 3.102786866749408\n",
      "Communication : 3.2381812027530184\n",
      "Personalization : 3.317161232088458\n",
      "Sports : 3.463838429425702\n",
      "Medical : 3.5315355974275078\n",
      "Finance : 3.7007785174320205\n",
      "Lifestyle : 3.8925871601038025\n",
      "Productivity : 3.8925871601038025\n",
      "Business : 4.592124562789123\n",
      "Education : 5.348076272142616\n",
      "Entertainment : 6.070179397495204\n",
      "Tools : 8.450863138892023\n",
      "\n",
      "\n",
      "BEAUTY : 0.5979916506826132\n",
      "COMICS : 0.6205573733498815\n",
      "ART_AND_DESIGN : 0.6431230960171499\n",
      "PARENTING : 0.6544059573507841\n",
      "EVENTS : 0.7108202640189552\n",
      "WEATHER : 0.8010831546880289\n",
      "HOUSE_AND_HOME : 0.8236488773552973\n",
      "AUTO_AND_VEHICLES : 0.9251946293580051\n",
      "LIBRARIES_AND_DEMO : 0.9364774906916393\n",
      "ENTERTAINMENT : 0.9590432133589079\n",
      "EDUCATION : 1.1621347173643235\n",
      "FOOD_AND_DRINK : 1.241114746699763\n",
      "MAPS_AND_NAVIGATION : 1.399074805370642\n",
      "VIDEO_PLAYERS : 1.7939749520478394\n",
      "DATING : 1.8616721200496444\n",
      "BOOKS_AND_REFERENCE : 2.1437436533904997\n",
      "SHOPPING : 2.245289405393208\n",
      "TRAVEL_AND_LOCAL : 2.335552296062281\n",
      "SOCIAL : 2.6627552747376737\n",
      "NEWS_AND_MAGAZINES : 2.798149610741284\n",
      "PHOTOGRAPHY : 2.944826808078529\n",
      "HEALTH_AND_FITNESS : 3.0802211440821394\n",
      "COMMUNICATION : 3.2381812027530184\n",
      "PERSONALIZATION : 3.317161232088458\n",
      "SPORTS : 3.396141261423897\n",
      "MEDICAL : 3.5315355974275078\n",
      "FINANCE : 3.7007785174320205\n",
      "PRODUCTIVITY : 3.8925871601038025\n",
      "LIFESTYLE : 3.9038700214374367\n",
      "BUSINESS : 4.592124562789123\n",
      "TOOLS : 8.462146000225657\n",
      "GAME : 9.725826469592688\n",
      "FAMILY : 18.898792733837304\n"
     ]
    }
   ],
   "source": [
    "def freq_table(dataset, index):\n",
    "    freq_table_dict = {}\n",
    "    total_apps = len(dataset)\n",
    "    for row in dataset:\n",
    "        val = row[index]\n",
    "        if val in freq_table_dict:\n",
    "            freq_table_dict[val] += 1\n",
    "        else:\n",
    "            freq_table_dict[val] = 1\n",
    "            \n",
    "    for key in freq_table_dict:\n",
    "        freq_table_dict[key] = (freq_table_dict[key]/total_apps) * 100\n",
    "    return freq_table_dict\n",
    "\n",
    "def display_table(dataset, index, reverse=False):\n",
    "    table = freq_table(dataset, index)\n",
    "    table_display = []\n",
    "    for key in table:\n",
    "        key_val_as_tuple = (table[key], key)\n",
    "        table_display.append(key_val_as_tuple)\n",
    "    \n",
    "    table_sorted = sorted(table_display, reverse=reverse)\n",
    "    \n",
    "    for entry in table_sorted:\n",
    "        print(entry[1], ':', entry[0])\n",
    "\n",
    "display_table(ios_free_apps, 11)\n",
    "print(\"\\n\")\n",
    "display_table(android_free_apps, 9)\n",
    "print(\"\\n\")\n",
    "display_table(android_free_apps, 1)"
   ]
  },
  {
   "cell_type": "markdown",
   "id": "loose-tobacco",
   "metadata": {},
   "source": [
    "The frequency tables we analyzed above showed us that the App Store is dominated by apps designed for fun, while Google Play shows a more balanced landscape of both practical and fun apps. Now, we'd like to get an idea about the kind of apps with the most users.\n",
    "\n",
    "One way to find out what genres are the most popular (have the most users) is to calculate the average number of installs for each app genre. For the Google Play dataset, we can find this information in the `Installs` column, but this information is missing for the App Store dataset. As a workaround, we'll take the total number of user ratings as a proxy, which we can find in the `rating_cout_tot` app.\n"
   ]
  },
  {
   "cell_type": "code",
   "execution_count": 15,
   "id": "southern-tanzania",
   "metadata": {},
   "outputs": [
    {
     "name": "stdout",
     "output_type": "stream",
     "text": [
      "Social Networking: 71548.34905660378\n",
      "Photo & Video: 28441.54375\n",
      "Games: 22788.6696905016\n",
      "Music: 57326.530303030304\n",
      "Reference: 74942.11111111111\n",
      "Health & Fitness: 23298.015384615384\n",
      "Weather: 52279.892857142855\n",
      "Utilities: 18684.456790123455\n",
      "Travel: 28243.8\n",
      "Shopping: 26919.690476190477\n",
      "News: 21248.023255813954\n",
      "Navigation: 86090.33333333333\n",
      "Lifestyle: 16485.764705882353\n",
      "Entertainment: 14029.830708661417\n",
      "Food & Drink: 33333.92307692308\n",
      "Sports: 23008.898550724636\n",
      "Book: 39758.5\n",
      "Finance: 31467.944444444445\n",
      "Education: 7003.983050847458\n",
      "Productivity: 21028.410714285714\n",
      "Business: 7491.117647058823\n",
      "Catalogs: 4004.0\n",
      "Medical: 612.0\n"
     ]
    }
   ],
   "source": [
    "ios_genre = freq_table(ios_free_apps, 11)\n",
    "\n",
    "for genre in ios_genre:\n",
    "    total = 0\n",
    "    len_genre = 0\n",
    "    for app in ios_free_apps:\n",
    "        genre_app = app[11]\n",
    "        if genre_app == genre:\n",
    "            num_of_ratings = float(app[5])\n",
    "            total += num_of_ratings\n",
    "            len_genre += 1\n",
    "    avg_app_genre = total/len_genre\n",
    "    print(genre + \": \" + str(avg_app_genre))"
   ]
  },
  {
   "cell_type": "markdown",
   "id": "loving-instrumentation",
   "metadata": {},
   "source": [
    "On average, Navigation apps have the highest number of user reviews, but this figure is heavily influenced by Waze and Google Maps, which have close to half a million user reviews together:"
   ]
  },
  {
   "cell_type": "code",
   "execution_count": 18,
   "id": "advisory-complaint",
   "metadata": {},
   "outputs": [
    {
     "name": "stdout",
     "output_type": "stream",
     "text": [
      "Waze - GPS Navigation, Maps & Real-time Traffic : 345046\n",
      "Google Maps - Navigation & Transit : 154911\n",
      "Geocaching® : 12811\n",
      "CoPilot GPS – Car Navigation & Offline Maps : 3582\n",
      "ImmobilienScout24: Real Estate Search in Germany : 187\n",
      "Railway Route Search : 5\n"
     ]
    }
   ],
   "source": [
    "for app in ios_free_apps:\n",
    "    if app[11] == 'Navigation':\n",
    "        print(app[1], ':', app[5])"
   ]
  },
  {
   "cell_type": "markdown",
   "id": "rising-attachment",
   "metadata": {},
   "source": [
    "The same pattern applies to social networking apps, where the average number is heavily influenced by a few giants like Facebook, Pinterest, Skype, etc. Same applies to music apps, where a few big players like Pandora, Spotify, and Shazam heavily influence the average number.\n",
    "\n",
    "Our aim is to find popular genres, but navigation, social networking or music apps might seem more popular than they really are. The average number of ratings seem to be skewed by very few apps which have hundreds of thousands of user ratings, while the other apps may struggle to get past the 10,000 threshold. We could get a better picture by removing these extremely popular apps for each genre and then rework the averages, but we'll leave this level of detail for later.\n",
    "\n",
    "Reference apps have 74,942 user ratings on average, but it's actually the Bible and Dictionary.com which skew up the average rating:\n"
   ]
  },
  {
   "cell_type": "code",
   "execution_count": 20,
   "id": "disciplinary-finland",
   "metadata": {},
   "outputs": [
    {
     "name": "stdout",
     "output_type": "stream",
     "text": [
      "Bible : 985920\n",
      "Dictionary.com Dictionary & Thesaurus : 200047\n",
      "Dictionary.com Dictionary & Thesaurus for iPad : 54175\n",
      "Google Translate : 26786\n",
      "Muslim Pro: Ramadan 2017 Prayer Times, Azan, Quran : 18418\n",
      "New Furniture Mods - Pocket Wiki & Game Tools for Minecraft PC Edition : 17588\n",
      "Merriam-Webster Dictionary : 16849\n",
      "Night Sky : 12122\n",
      "City Maps for Minecraft PE - The Best Maps for Minecraft Pocket Edition (MCPE) : 8535\n",
      "LUCKY BLOCK MOD ™ for Minecraft PC Edition - The Best Pocket Wiki & Mods Installer Tools : 4693\n",
      "GUNS MODS for Minecraft PC Edition - Mods Tools : 1497\n",
      "Guides for Pokémon GO - Pokemon GO News and Cheats : 826\n",
      "WWDC : 762\n",
      "Horror Maps for Minecraft PE - Download The Scariest Maps for Minecraft Pocket Edition (MCPE) Free : 718\n",
      "VPN Express : 14\n",
      "Real Bike Traffic Rider Virtual Reality Glasses : 8\n",
      "教えて!goo : 0\n",
      "Jishokun-Japanese English Dictionary & Translator : 0\n"
     ]
    }
   ],
   "source": [
    "for app in ios_free_apps:\n",
    "    if app[-5] == 'Reference':\n",
    "        print(app[1], ':', app[5])"
   ]
  },
  {
   "cell_type": "markdown",
   "id": "maritime-construction",
   "metadata": {},
   "source": [
    "However, this niche seems to show some potential. One thing we could do is take another popular book and turn it into an app where we could add different features besides the raw version of the book. This might include daily quotes from the book, an audio version of the book, quizzes about the book, etc. On top of that, we could also embed a dictionary within the app, so users don't need to exit our app to look up words in an external app.\n",
    "\n",
    "This idea seems to fit well with the fact that the App Store is dominated by for-fun apps. This suggests the market might be a bit saturated with for-fun apps, which means a practical app might have more of a chance to stand out among the huge number of apps on the App Store.\n",
    "\n",
    "Other genres that seem popular include weather, book, food and drink, or finance. The book genre seem to overlap a bit with the app idea we described above, but the other genres don't seem too interesting to us:\n",
    "- Weather apps — people generally don't spend too much time in-app, and the chances of making profit from in-app adds are low. Also, getting reliable live weather data may require us to connect our apps to non-free APIs.\n",
    "- Food and drink — examples here include Starbucks, Dunkin' Donuts, McDonald's, etc. So making a popular food and drink app requires actual cooking and a delivery service, which is outside the scope.\n",
    "- Finance apps — these apps involve banking, paying bills, money transfer, etc. Building a finance app requires domain knowledge, and we don't want to hire a finance expert just to build an app.\n",
    "\n",
    "Now let's analyze the Google Play market a bit."
   ]
  },
  {
   "cell_type": "markdown",
   "id": "understanding-offer",
   "metadata": {},
   "source": [
    "## Most popular apps by genre on Google Play"
   ]
  },
  {
   "cell_type": "code",
   "execution_count": 23,
   "id": "legendary-boxing",
   "metadata": {},
   "outputs": [
    {
     "name": "stdout",
     "output_type": "stream",
     "text": [
      "1,000,000+ : 15.728308699086089\n",
      "100,000+ : 11.55365000564143\n",
      "10,000,000+ : 10.549475346947986\n",
      "10,000+ : 10.199706645605326\n",
      "1,000+ : 8.394448832223853\n",
      "100+ : 6.916393997517771\n",
      "5,000,000+ : 6.826131106848697\n",
      "500,000+ : 5.562450637481666\n",
      "50,000+ : 4.772650344127271\n",
      "5,000+ : 4.513144533453684\n",
      "10+ : 3.542818458761142\n",
      "500+ : 3.2494640640866526\n",
      "50,000,000+ : 2.3017037120613786\n",
      "100,000,000+ : 2.1324607920568655\n",
      "50+ : 1.9180864267178157\n",
      "5+ : 0.7898002933543946\n",
      "1+ : 0.5077287600135394\n",
      "500,000,000+ : 0.270788672007221\n",
      "1,000,000,000+ : 0.2256572266726842\n",
      "0+ : 0.045131445334536835\n"
     ]
    }
   ],
   "source": [
    "display_table(android_free_apps, 5, True)\n"
   ]
  }
 ],
 "metadata": {
  "kernelspec": {
   "display_name": "Python 3",
   "language": "python",
   "name": "python3"
  },
  "language_info": {
   "codemirror_mode": {
    "name": "ipython",
    "version": 3
   },
   "file_extension": ".py",
   "mimetype": "text/x-python",
   "name": "python",
   "nbconvert_exporter": "python",
   "pygments_lexer": "ipython3",
   "version": "3.8.3"
  }
 },
 "nbformat": 4,
 "nbformat_minor": 5
}
